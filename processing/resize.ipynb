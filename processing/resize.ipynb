{
 "cells": [
  {
   "cell_type": "code",
   "execution_count": 13,
   "metadata": {},
   "outputs": [
    {
     "name": "stdout",
     "output_type": "stream",
     "text": [
      "(array([[ 0.5,  0.5,  0.5],\n",
      "       [ 0.5,  0.5, -0.5],\n",
      "       [ 0.5, -0.5,  0.5],\n",
      "       [ 0.5, -0.5, -0.5],\n",
      "       [-0.5,  0.5,  0.5],\n",
      "       [-0.5,  0.5, -0.5],\n",
      "       [-0.5, -0.5,  0.5],\n",
      "       [-0.5, -0.5, -0.5]]), array([[2, 0, 6],\n",
      "       [0, 4, 6],\n",
      "       [5, 4, 0],\n",
      "       [5, 0, 1],\n",
      "       [6, 4, 5],\n",
      "       [5, 7, 6],\n",
      "       [3, 0, 2],\n",
      "       [1, 0, 3],\n",
      "       [3, 2, 6],\n",
      "       [6, 7, 3],\n",
      "       [5, 1, 3],\n",
      "       [3, 7, 5]], dtype=int64))\n"
     ]
    },
    {
     "data": {
      "application/vnd.jupyter.widget-view+json": {
       "model_id": "07776aaaa8cb445ba196e1407ba51006",
       "version_major": 2,
       "version_minor": 0
      },
      "text/plain": [
       "Renderer(camera=PerspectiveCamera(children=(DirectionalLight(color='white', intensity=0.6, position=(0.0, 0.0,…"
      ]
     },
     "metadata": {},
     "output_type": "display_data"
    },
    {
     "data": {
      "text/plain": [
       "<meshplot.Viewer.Viewer at 0x7f369ab6e6a0>"
      ]
     },
     "execution_count": 13,
     "metadata": {},
     "output_type": "execute_result"
    }
   ],
   "source": [
    "import igl\n",
    "import numpy as np\n",
    "import meshplot as mp\n",
    "#matplotlib inline\n",
    "\n",
    "v, f=igl.read_triangle_mesh(r\"../slingshot/assets/data/surf_mesh/cube_dense.obj\")\n",
    "print(igl.bounding_box(v))\n",
    "mp.plot(v,f)"
   ]
  },
  {
   "cell_type": "code",
   "execution_count": 2,
   "metadata": {},
   "outputs": [
    {
     "name": "stdout",
     "output_type": "stream",
     "text": [
      "(98, 3)\n",
      "(192, 3)\n"
     ]
    }
   ],
   "source": [
    "print(v.shape)\n",
    "print(f.shape)"
   ]
  },
  {
   "cell_type": "code",
   "execution_count": 9,
   "metadata": {},
   "outputs": [
    {
     "data": {
      "application/vnd.jupyter.widget-view+json": {
       "model_id": "62a02b1179d049e79542e473b9a4707a",
       "version_major": 2,
       "version_minor": 0
      },
      "text/plain": [
       "Renderer(camera=PerspectiveCamera(children=(DirectionalLight(color='white', intensity=0.6, position=(0.0, 0.0,…"
      ]
     },
     "metadata": {},
     "output_type": "display_data"
    },
    {
     "data": {
      "text/plain": [
       "<meshplot.Viewer.Viewer at 0x7f369aabeb50>"
      ]
     },
     "execution_count": 9,
     "metadata": {},
     "output_type": "execute_result"
    }
   ],
   "source": [
    "scale = [0.00485,0.0001,0.21]\n",
    "new_v=np.zeros(v.shape)\n",
    "for i in range(3):\n",
    "    new_v[:,i]=v[:,i]*scale[i]    \n",
    "\n",
    "mp.plot(new_v,f)"
   ]
  },
  {
   "cell_type": "code",
   "execution_count": 10,
   "metadata": {},
   "outputs": [
    {
     "data": {
      "text/plain": [
       "True"
      ]
     },
     "execution_count": 10,
     "metadata": {},
     "output_type": "execute_result"
    }
   ],
   "source": [
    "igl.write_triangle_mesh(r\"../slingshot/assets/data/surf_mesh/rubber_band.obj\",new_v,f)"
   ]
  },
  {
   "cell_type": "code",
   "execution_count": 42,
   "metadata": {},
   "outputs": [
    {
     "name": "stdout",
     "output_type": "stream",
     "text": [
      "(8, 3)\n",
      "[2.469999e+00 1.055000e+02 4.999900e-02]\n"
     ]
    },
    {
     "name": "stderr",
     "output_type": "stream",
     "text": [
      "Warning: readOBJ() ignored non-comment line 4:\n",
      "  o Rubber\n"
     ]
    },
    {
     "data": {
      "application/vnd.jupyter.widget-view+json": {
       "model_id": "607b3c451be5498badcdd9a36d9bd9aa",
       "version_major": 2,
       "version_minor": 0
      },
      "text/plain": [
       "Renderer(camera=PerspectiveCamera(children=(DirectionalLight(color='white', intensity=0.6, position=(-0.030000…"
      ]
     },
     "metadata": {},
     "output_type": "display_data"
    },
    {
     "data": {
      "text/plain": [
       "<meshplot.Viewer.Viewer at 0x7f3699d6fa00>"
      ]
     },
     "execution_count": 42,
     "metadata": {},
     "output_type": "execute_result"
    }
   ],
   "source": [
    "v,f=igl.read_triangle_mesh(r\"../slingshot/assets/data/surf_mesh/rubber.obj\")\n",
    "print(v.shape)\n",
    "print(np.max(v,axis=0))\n",
    "mp.plot(v,f)"
   ]
  },
  {
   "cell_type": "code",
   "execution_count": 37,
   "metadata": {},
   "outputs": [
    {
     "ename": "ValueError",
     "evalue": "File '/home/duo/NYU/polyfem-tutorials/Slingshot_Polyfem_Tutorial/slingshot/assets/data/vol_mesh/mat.msh' not found.",
     "output_type": "error",
     "traceback": [
      "\u001b[0;31m---------------------------------------------------------------------------\u001b[0m",
      "\u001b[0;31mValueError\u001b[0m                                Traceback (most recent call last)",
      "\u001b[1;32m/home/duo/NYU/polyfem-tutorials/Slingshot_Polyfem_Tutorial/processing/resize.ipynb Cell 6\u001b[0m in \u001b[0;36m<cell line: 1>\u001b[0;34m()\u001b[0m\n\u001b[0;32m----> <a href='vscode-notebook-cell:/home/duo/NYU/polyfem-tutorials/Slingshot_Polyfem_Tutorial/processing/resize.ipynb#W5sZmlsZQ%3D%3D?line=0'>1</a>\u001b[0m v,t\u001b[39m=\u001b[39migl\u001b[39m.\u001b[39;49mread_msh(\u001b[39mr\u001b[39;49m\u001b[39m\"\u001b[39;49m\u001b[39m/home/duo/NYU/polyfem-tutorials/Slingshot_Polyfem_Tutorial/slingshot/assets/data/vol_mesh/mat.msh\u001b[39;49m\u001b[39m\"\u001b[39;49m)\n\u001b[1;32m      <a href='vscode-notebook-cell:/home/duo/NYU/polyfem-tutorials/Slingshot_Polyfem_Tutorial/processing/resize.ipynb#W5sZmlsZQ%3D%3D?line=1'>2</a>\u001b[0m \u001b[39mprint\u001b[39m(v\u001b[39m.\u001b[39mshape)\n",
      "\u001b[0;31mValueError\u001b[0m: File '/home/duo/NYU/polyfem-tutorials/Slingshot_Polyfem_Tutorial/slingshot/assets/data/vol_mesh/mat.msh' not found."
     ]
    }
   ],
   "source": [
    "v,t=igl.read_msh(r\"/home/duo/NYU/polyfem-tutorials/Slingshot_Polyfem_Tutorial/slingshot/assets/data/vol_mesh/mat.msh\")\n",
    "print(v.shape)"
   ]
  },
  {
   "cell_type": "code",
   "execution_count": 35,
   "metadata": {},
   "outputs": [
    {
     "name": "stdout",
     "output_type": "stream",
     "text": [
      "True\n"
     ]
    }
   ],
   "source": [
    "import os\n",
    "print(os.path.exists(r'../slingshot/assets/data/vol_mesh/mat.msh'))"
   ]
  },
  {
   "cell_type": "code",
   "execution_count": null,
   "metadata": {},
   "outputs": [],
   "source": []
  }
 ],
 "metadata": {
  "kernelspec": {
   "display_name": "Python 3.8.13 ('ipc-robotics')",
   "language": "python",
   "name": "python3"
  },
  "language_info": {
   "codemirror_mode": {
    "name": "ipython",
    "version": 3
   },
   "file_extension": ".py",
   "mimetype": "text/x-python",
   "name": "python",
   "nbconvert_exporter": "python",
   "pygments_lexer": "ipython3",
   "version": "3.8.13"
  },
  "orig_nbformat": 4,
  "vscode": {
   "interpreter": {
    "hash": "5f856fb32153b2f4af7a60855aac69684018a0c6c36c47eccb385ec2994d2eac"
   }
  }
 },
 "nbformat": 4,
 "nbformat_minor": 2
}
